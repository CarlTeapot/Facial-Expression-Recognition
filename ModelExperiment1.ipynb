{
  "nbformat": 4,
  "nbformat_minor": 0,
  "metadata": {
    "colab": {
      "provenance": [],
      "gpuType": "T4",
      "authorship_tag": "ABX9TyNTm2Hh3e20Q2oSRSLyKs3q",
      "include_colab_link": true
    },
    "kernelspec": {
      "name": "python3",
      "display_name": "Python 3"
    },
    "language_info": {
      "name": "python"
    },
    "accelerator": "GPU"
  },
  "cells": [
    {
      "cell_type": "markdown",
      "metadata": {
        "id": "view-in-github",
        "colab_type": "text"
      },
      "source": [
        "<a href=\"https://colab.research.google.com/github/CarlTeapot/Facial-Expression-Recognition/blob/main/ModelExperiment1.ipynb\" target=\"_parent\"><img src=\"https://colab.research.google.com/assets/colab-badge.svg\" alt=\"Open In Colab\"/></a>"
      ]
    },
    {
      "cell_type": "code",
      "source": [
        "!pip install opendatasets"
      ],
      "metadata": {
        "colab": {
          "base_uri": "https://localhost:8080/"
        },
        "collapsed": true,
        "id": "Fa22ZCAM5PSv",
        "outputId": "3f9dafac-3483-4d56-b8db-43d5f0ce02c9"
      },
      "execution_count": 58,
      "outputs": [
        {
          "output_type": "stream",
          "name": "stdout",
          "text": [
            "Requirement already satisfied: opendatasets in /usr/local/lib/python3.11/dist-packages (0.1.22)\n",
            "Requirement already satisfied: tqdm in /usr/local/lib/python3.11/dist-packages (from opendatasets) (4.67.1)\n",
            "Requirement already satisfied: kaggle in /usr/local/lib/python3.11/dist-packages (from opendatasets) (1.7.4.5)\n",
            "Requirement already satisfied: click in /usr/local/lib/python3.11/dist-packages (from opendatasets) (8.2.1)\n",
            "Requirement already satisfied: bleach in /usr/local/lib/python3.11/dist-packages (from kaggle->opendatasets) (6.2.0)\n",
            "Requirement already satisfied: certifi>=14.05.14 in /usr/local/lib/python3.11/dist-packages (from kaggle->opendatasets) (2025.4.26)\n",
            "Requirement already satisfied: charset-normalizer in /usr/local/lib/python3.11/dist-packages (from kaggle->opendatasets) (3.4.2)\n",
            "Requirement already satisfied: idna in /usr/local/lib/python3.11/dist-packages (from kaggle->opendatasets) (3.10)\n",
            "Requirement already satisfied: protobuf in /usr/local/lib/python3.11/dist-packages (from kaggle->opendatasets) (5.29.5)\n",
            "Requirement already satisfied: python-dateutil>=2.5.3 in /usr/local/lib/python3.11/dist-packages (from kaggle->opendatasets) (2.9.0.post0)\n",
            "Requirement already satisfied: python-slugify in /usr/local/lib/python3.11/dist-packages (from kaggle->opendatasets) (8.0.4)\n",
            "Requirement already satisfied: requests in /usr/local/lib/python3.11/dist-packages (from kaggle->opendatasets) (2.32.3)\n",
            "Requirement already satisfied: setuptools>=21.0.0 in /usr/local/lib/python3.11/dist-packages (from kaggle->opendatasets) (75.2.0)\n",
            "Requirement already satisfied: six>=1.10 in /usr/local/lib/python3.11/dist-packages (from kaggle->opendatasets) (1.17.0)\n",
            "Requirement already satisfied: text-unidecode in /usr/local/lib/python3.11/dist-packages (from kaggle->opendatasets) (1.3)\n",
            "Requirement already satisfied: urllib3>=1.15.1 in /usr/local/lib/python3.11/dist-packages (from kaggle->opendatasets) (2.4.0)\n",
            "Requirement already satisfied: webencodings in /usr/local/lib/python3.11/dist-packages (from kaggle->opendatasets) (0.5.1)\n"
          ]
        }
      ]
    },
    {
      "cell_type": "code",
      "execution_count": 2,
      "metadata": {
        "id": "UkUlu5SGHQe2",
        "colab": {
          "base_uri": "https://localhost:8080/"
        },
        "outputId": "07f3148c-e6d1-4969-d34b-58c00db89d23"
      },
      "outputs": [
        {
          "output_type": "stream",
          "name": "stdout",
          "text": [
            "Device available:  cuda\n"
          ]
        }
      ],
      "source": [
        "import opendatasets as od\n",
        "import torch\n",
        "from torch import nn\n",
        "from torch.optim import Adam\n",
        "import torchvision.transforms as transforms\n",
        "from torch.utils.data import Dataset, DataLoader\n",
        "from sklearn.preprocessing import LabelEncoder\n",
        "import matplotlib.pyplot as plt\n",
        "from PIL import Image\n",
        "import pandas as pd\n",
        "import numpy as np\n",
        "import os\n",
        "\n",
        "device = \"cuda\" if torch.cuda.is_available() else \"cpu\" # detect the GPU if any, if not use CPU, change cuda to mps if you have a mac\n",
        "print(\"Device available: \", device)"
      ]
    },
    {
      "cell_type": "code",
      "source": [
        "od.download(\"https://www.kaggle.com/competitions/challenges-in-representation-learning-facial-expression-recognition-challenge\")"
      ],
      "metadata": {
        "colab": {
          "base_uri": "https://localhost:8080/"
        },
        "collapsed": true,
        "id": "TmTCmMvN59gH",
        "outputId": "1d1f590e-6584-478d-c558-76fbcb2a7c09"
      },
      "execution_count": 3,
      "outputs": [
        {
          "output_type": "stream",
          "name": "stdout",
          "text": [
            "Please provide your Kaggle credentials to download this dataset. Learn more: http://bit.ly/kaggle-creds\n",
            "Your Kaggle username: matearevadze\n",
            "Your Kaggle Key: ··········\n",
            "Downloading challenges-in-representation-learning-facial-expression-recognition-challenge.zip to ./challenges-in-representation-learning-facial-expression-recognition-challenge\n"
          ]
        },
        {
          "output_type": "stream",
          "name": "stderr",
          "text": [
            "100%|██████████| 285M/285M [00:00<00:00, 849MB/s]\n"
          ]
        },
        {
          "output_type": "stream",
          "name": "stdout",
          "text": [
            "\n",
            "Extracting archive ./challenges-in-representation-learning-facial-expression-recognition-challenge/challenges-in-representation-learning-facial-expression-recognition-challenge.zip to ./challenges-in-representation-learning-facial-expression-recognition-challenge\n"
          ]
        }
      ]
    },
    {
      "cell_type": "code",
      "source": [
        "train_data = pd.read_csv(\"/content/challenges-in-representation-learning-facial-expression-recognition-challenge/train.csv\")"
      ],
      "metadata": {
        "id": "lzJyaF-p7F_s"
      },
      "execution_count": 4,
      "outputs": []
    },
    {
      "cell_type": "code",
      "source": [
        "def convertToTensors(df):\n",
        "    image_matrix = np.vstack(df['pixels'].str.split().apply(lambda x: np.array(x, dtype='float32')))\n",
        "    image_tensor = image_matrix.reshape(-1, 1, 48, 48)\n",
        "    label_tensor = df['emotion'].values.astype('int64')\n",
        "    return torch.tensor(image_tensor), torch.tensor(label_tensor)"
      ],
      "metadata": {
        "id": "XiphSrujjvef"
      },
      "execution_count": 5,
      "outputs": []
    },
    {
      "cell_type": "code",
      "source": [
        "LR = 1e-4\n",
        "BATCH_SIZE = 16\n",
        "EPOCHS = 10"
      ],
      "metadata": {
        "id": "UNmwcLnvNXSu"
      },
      "execution_count": 7,
      "outputs": []
    },
    {
      "cell_type": "code",
      "source": [
        "from sklearn.model_selection import train_test_split\n",
        "from torch.utils.data import DataLoader, TensorDataset\n",
        "\n",
        "\n",
        "x,y = convertToTensors(train_data)\n",
        "\n",
        "\n",
        "x_train, x_temp, y_train, y_temp = train_test_split(\n",
        "    x, y, test_size=0.2, random_state=42, stratify=y\n",
        ")\n",
        "x_val, x_test, y_val, y_test = train_test_split(\n",
        "    x_temp, y_temp, test_size=0.5, random_state=42, stratify=y_temp\n",
        ")"
      ],
      "metadata": {
        "id": "T7mvV67qqA2Y"
      },
      "execution_count": 95,
      "outputs": []
    },
    {
      "cell_type": "code",
      "source": [
        "from torchvision import transforms\n",
        "\n",
        "train_transform = transforms.Compose([\n",
        "    transforms.RandomHorizontalFlip(),\n",
        "    transforms.RandomRotation(10),\n",
        "    transforms.ColorJitter(brightness=0.2, contrast=0.2),\n",
        "    transforms.ToTensor(),\n",
        "    transforms.Normalize(mean=[0.5], std=[0.5])\n",
        "])\n"
      ],
      "metadata": {
        "id": "OJr3TOxsk0Gj"
      },
      "execution_count": 96,
      "outputs": []
    },
    {
      "cell_type": "code",
      "source": [
        "class FERDataset(Dataset):\n",
        "    def __init__(self, images, labels, transform=None):\n",
        "        self.images = images\n",
        "        self.labels = labels\n",
        "        self.transform = transform\n",
        "\n",
        "    def __len__(self):\n",
        "        return len(self.labels)\n",
        "\n",
        "    def __getitem__(self, idx):\n",
        "        img = self.images[idx]\n",
        "        label = self.labels[idx]\n",
        "\n",
        "        if isinstance(img, torch.Tensor):\n",
        "            img = img.squeeze().numpy()\n",
        "        img = Image.fromarray((img * 255).astype(np.uint8), mode='L')\n",
        "\n",
        "        if self.transform:\n",
        "            img = self.transform(img)\n",
        "\n",
        "        return img, label"
      ],
      "metadata": {
        "id": "SVYa6jZCk3Zi"
      },
      "execution_count": 97,
      "outputs": []
    },
    {
      "cell_type": "code",
      "source": [
        "\n",
        "# train_dataset = FERDataset(x_train, y_train, transform=train_transform)\n",
        "# val_dataset = FERDataset(x_val, y_val, transform=basic_transform)\n",
        "# test_dataset = FERDataset(x_test, y_test, transform=basic_transform)\n",
        "\n",
        "train_dataset = FERDataset(x_train, y_train, transform=train_transform)\n",
        "val_dataset = FERDataset(x_val, y_val, transform=transforms.ToTensor())\n",
        "test_dataset = FERDataset(x_test, y_test, transform=transforms.ToTensor())\n",
        "\n",
        "train_loader = DataLoader(TensorDataset(x_train, y_train), batch_size=BATCH_SIZE, shuffle=True)\n",
        "val_loader = DataLoader(TensorDataset(x_val, y_val), batch_size=BATCH_SIZE)\n",
        "test_loader = DataLoader(TensorDataset(x_test, y_test), batch_size=BATCH_SIZE)"
      ],
      "metadata": {
        "id": "Ou6eaGwal9TK"
      },
      "execution_count": 98,
      "outputs": []
    },
    {
      "cell_type": "code",
      "source": [
        "class FCNet(nn.Module):\n",
        "    def __init__(self):\n",
        "        super().__init__()\n",
        "        self.flatten = nn.Flatten()\n",
        "        self.fc1 = nn.Linear(48 * 48, 128)\n",
        "        self.relu = nn.ReLU()\n",
        "        self.output = nn.Linear(128, 7)\n",
        "\n",
        "    def forward(self, x):\n",
        "        x = self.flatten(x)\n",
        "        x = self.relu(self.fc1(x))\n",
        "        x = self.output(x)\n",
        "        return x"
      ],
      "metadata": {
        "id": "TAPzukfuKhLq"
      },
      "execution_count": 81,
      "outputs": []
    },
    {
      "cell_type": "code",
      "source": [
        "class CNNet(nn.Module):\n",
        "    def __init__(self):\n",
        "        super().__init__()\n",
        "\n",
        "        self.conv = nn.Conv2d(1, 32, kernel_size=3, padding=1)\n",
        "        self.pooling = nn.MaxPool2d(2, 2)\n",
        "        self.relu = nn.ReLU()\n",
        "\n",
        "        self.output = nn.Linear(32 * 24 * 24, 7)\n",
        "\n",
        "    def forward(self, x):\n",
        "        x = self.pooling(self.relu(self.conv(x)))\n",
        "        x = x.view(x.size(0), -1)\n",
        "        x = self.output(x)\n",
        "        return x\n"
      ],
      "metadata": {
        "id": "HaWfUUpgIvfm"
      },
      "execution_count": 82,
      "outputs": []
    },
    {
      "cell_type": "code",
      "source": [
        "\n",
        "class CNNet2(nn.Module):\n",
        "    def __init__(self):\n",
        "        super().__init__()\n",
        "\n",
        "        self.conv1 = nn.Conv2d(1, 32, kernel_size=3, padding=1)\n",
        "        self.conv2 = nn.Conv2d(32, 64, kernel_size=3, padding=1)\n",
        "        self.conv3 = nn.Conv2d(64, 128, kernel_size=3, padding=1)\n",
        "\n",
        "        self.pooling = nn.MaxPool2d(2, 2)\n",
        "        self.relu = nn.ReLU()\n",
        "        self.flatten = nn.Flatten()\n",
        "\n",
        "        self.linear = nn.Linear(128 * 6 * 6, 128)\n",
        "        self.output = nn.Linear(128, 7)\n",
        "\n",
        "    def forward(self, x):\n",
        "        x = self.pooling(self.relu(self.conv1(x)))\n",
        "        x = self.pooling(self.relu(self.conv2(x)))\n",
        "        x = self.pooling(self.relu(self.conv3(x)))\n",
        "        x = self.flatten(x)\n",
        "        x = self.relu(self.linear(x))\n",
        "        x = self.output(x)\n",
        "        return x\n"
      ],
      "metadata": {
        "id": "SsWKSkgAk6ZR"
      },
      "execution_count": 83,
      "outputs": []
    },
    {
      "cell_type": "code",
      "source": [
        "import torch.nn as nn\n",
        "\n",
        "class CNNet3(nn.Module):\n",
        "    def __init__(self, dropout_rate=0.3):\n",
        "        super().__init__()\n",
        "\n",
        "        self.feature_extractor = nn.Sequential(\n",
        "            nn.Conv2d(1, 32, kernel_size=3, padding=1),\n",
        "            nn.BatchNorm2d(32),\n",
        "            nn.ReLU(),\n",
        "            nn.MaxPool2d(2, 2),\n",
        "\n",
        "            nn.Conv2d(32, 64, kernel_size=3, padding=1),\n",
        "            nn.BatchNorm2d(64),\n",
        "            nn.ReLU(),\n",
        "            nn.MaxPool2d(2, 2),\n",
        "\n",
        "            nn.Conv2d(64, 128, kernel_size=3, padding=1),\n",
        "            nn.BatchNorm2d(128),\n",
        "            nn.ReLU(),\n",
        "            nn.MaxPool2d(2, 2),\n",
        "        )\n",
        "\n",
        "        self.classifier = nn.Sequential(\n",
        "            nn.Flatten(),\n",
        "            nn.Linear(128 * 6 * 6, 128),\n",
        "            nn.ReLU(),\n",
        "            nn.Dropout(dropout_rate),\n",
        "            nn.Linear(128, 7)\n",
        "        )\n",
        "\n",
        "    def forward(self, x):\n",
        "        x = self.feature_extractor(x)\n",
        "        x = self.classifier(x)\n",
        "        return x\n"
      ],
      "metadata": {
        "id": "YXz7qDjusULN"
      },
      "execution_count": 92,
      "outputs": []
    },
    {
      "cell_type": "code",
      "source": [
        "\n",
        "def train_with_wandb(model, train_loader, val_loader, optimizer,\n",
        "                     epochs, architecture, criterion, learning_rate, run_name=\"run\"):\n",
        "\n",
        "    device = torch.device(\"cuda\" if torch.cuda.is_available() else \"cpu\")\n",
        "    model.to(device)\n",
        "\n",
        "    wandb.init(project=\"fer2013\", name=run_name, config={\n",
        "        \"epochs\": epochs,\n",
        "        \"architecture\": architecture,\n",
        "        \"optimizer\": optimizer.__class__.__name__,\n",
        "        \"loss_function\": criterion.__class__.__name__,\n",
        "        \"learning_rate\": learning_rate,\n",
        "        \"batch_size\": train_loader.batch_size\n",
        "    })\n",
        "\n",
        "    total_loss_train_plot = []\n",
        "    total_loss_validation_plot = []\n",
        "    total_acc_train_plot = []\n",
        "    total_acc_validation_plot = []\n",
        "\n",
        "    for epoch in range(epochs):\n",
        "        total_acc_train = 0\n",
        "        total_loss_train = 0\n",
        "        total_loss_val = 0\n",
        "        total_acc_val = 0\n",
        "\n",
        "        model.train()\n",
        "        for inputs, labels in train_loader:\n",
        "            inputs, labels = inputs.to(device), labels.to(device)\n",
        "\n",
        "            optimizer.zero_grad()\n",
        "            outputs = model(inputs)\n",
        "            train_loss = criterion(outputs, labels)\n",
        "            total_loss_train += train_loss.item()\n",
        "            train_loss.backward()\n",
        "            optimizer.step()\n",
        "\n",
        "            train_acc = (torch.argmax(outputs, axis=1) == labels).sum().item()\n",
        "            total_acc_train += train_acc\n",
        "\n",
        "        model.eval()\n",
        "        with torch.no_grad():\n",
        "            for inputs, labels in val_loader:\n",
        "                inputs, labels = inputs.to(device), labels.to(device)\n",
        "                outputs = model(inputs)\n",
        "                val_loss = criterion(outputs, labels)\n",
        "                total_loss_val += val_loss.item()\n",
        "                val_acc = (torch.argmax(outputs, axis=1) == labels).sum().item()\n",
        "                total_acc_val += val_acc\n",
        "\n",
        "        num_train = len(train_loader.dataset)\n",
        "        num_val = len(val_loader.dataset)\n",
        "\n",
        "        avg_loss_train = total_loss_train / len(train_loader)\n",
        "        avg_loss_val = total_loss_val / len(val_loader)\n",
        "        acc_train = 100 * total_acc_train / num_train\n",
        "        acc_val = 100 * total_acc_val / num_val\n",
        "\n",
        "        total_loss_train_plot.append(round(avg_loss_train, 4))\n",
        "        total_loss_validation_plot.append(round(avg_loss_val, 4))\n",
        "        total_acc_train_plot.append(round(acc_train, 4))\n",
        "        total_acc_validation_plot.append(round(acc_val, 4))\n",
        "\n",
        "        wandb.log({\n",
        "            \"epoch\": epoch + 1,\n",
        "            \"train_loss\": avg_loss_train,\n",
        "            \"val_loss\": avg_loss_val,\n",
        "            \"train_accuracy\": acc_train,\n",
        "            \"val_accuracy\": acc_val\n",
        "        })\n",
        "\n",
        "        print(f\"Epoch {epoch+1}/{epochs}\")\n",
        "        print(f\"  Train Loss: {avg_loss_train:.4f} | Train Acc: {acc_train:.2f}%\")\n",
        "        print(f\"  Val   Loss: {avg_loss_val:.4f} | Val   Acc: {acc_val:.2f}%\")\n",
        "        print(\"=\" * 30)\n",
        "\n",
        "    wandb.finish()\n",
        "\n",
        "    return {\n",
        "        \"train_loss\": total_loss_train_plot,\n",
        "        \"val_loss\": total_loss_validation_plot,\n",
        "        \"train_accuracy\": total_acc_train_plot,\n",
        "        \"val_accuracy\": total_acc_validation_plot\n",
        "    }\n"
      ],
      "metadata": {
        "id": "Qa3Px5LqzoAs"
      },
      "execution_count": 93,
      "outputs": []
    },
    {
      "cell_type": "code",
      "source": [
        "model = CNNet3().to(device)\n",
        "\n",
        "criterion = nn.CrossEntropyLoss()\n",
        "optimizer = Adam(model.parameters(), lr=LR)\n",
        "train_with_wandb(\n",
        "    model=model,\n",
        "    train_loader=train_loader,\n",
        "    val_loader=val_loader,\n",
        "    optimizer=optimizer,\n",
        "    epochs=30,\n",
        "    architecture=\"CNN_model_v4\",\n",
        "    criterion=criterion,\n",
        "    learning_rate=0.005,\n",
        "    run_name=\"CNN_model_v6_data_standardization_and_regularization\"\n",
        ")"
      ],
      "metadata": {
        "colab": {
          "base_uri": "https://localhost:8080/",
          "height": 1000
        },
        "id": "tAS9kOSQNjvx",
        "outputId": "3438262d-de91-4799-823f-2a1130fa5405"
      },
      "execution_count": null,
      "outputs": [
        {
          "output_type": "display_data",
          "data": {
            "text/plain": [
              "<IPython.core.display.HTML object>"
            ],
            "text/html": [
              "Tracking run with wandb version 0.19.11"
            ]
          },
          "metadata": {}
        },
        {
          "output_type": "display_data",
          "data": {
            "text/plain": [
              "<IPython.core.display.HTML object>"
            ],
            "text/html": [
              "Run data is saved locally in <code>/content/wandb/run-20250606_195032-5sm6i1ow</code>"
            ]
          },
          "metadata": {}
        },
        {
          "output_type": "display_data",
          "data": {
            "text/plain": [
              "<IPython.core.display.HTML object>"
            ],
            "text/html": [
              "Syncing run <strong><a href='https://wandb.ai/arevadzemate-free-university-of-tbilisi-/fer2013/runs/5sm6i1ow' target=\"_blank\">CNN_model_v6_data_standardization_and_regularization</a></strong> to <a href='https://wandb.ai/arevadzemate-free-university-of-tbilisi-/fer2013' target=\"_blank\">Weights & Biases</a> (<a href='https://wandb.me/developer-guide' target=\"_blank\">docs</a>)<br>"
            ]
          },
          "metadata": {}
        },
        {
          "output_type": "display_data",
          "data": {
            "text/plain": [
              "<IPython.core.display.HTML object>"
            ],
            "text/html": [
              " View project at <a href='https://wandb.ai/arevadzemate-free-university-of-tbilisi-/fer2013' target=\"_blank\">https://wandb.ai/arevadzemate-free-university-of-tbilisi-/fer2013</a>"
            ]
          },
          "metadata": {}
        },
        {
          "output_type": "display_data",
          "data": {
            "text/plain": [
              "<IPython.core.display.HTML object>"
            ],
            "text/html": [
              " View run at <a href='https://wandb.ai/arevadzemate-free-university-of-tbilisi-/fer2013/runs/5sm6i1ow' target=\"_blank\">https://wandb.ai/arevadzemate-free-university-of-tbilisi-/fer2013/runs/5sm6i1ow</a>"
            ]
          },
          "metadata": {}
        },
        {
          "output_type": "stream",
          "name": "stdout",
          "text": [
            "Epoch 1/30\n",
            "  Train Loss: 1.6860 | Train Acc: 32.52%\n",
            "  Val   Loss: 1.7138 | Val   Acc: 35.81%\n",
            "==============================\n",
            "Epoch 2/30\n",
            "  Train Loss: 1.5096 | Train Acc: 41.65%\n",
            "  Val   Loss: 1.5885 | Val   Acc: 39.39%\n",
            "==============================\n",
            "Epoch 3/30\n",
            "  Train Loss: 1.4329 | Train Acc: 44.86%\n",
            "  Val   Loss: 1.5309 | Val   Acc: 41.48%\n",
            "==============================\n",
            "Epoch 4/30\n",
            "  Train Loss: 1.3905 | Train Acc: 46.93%\n",
            "  Val   Loss: 1.5380 | Val   Acc: 40.82%\n",
            "==============================\n",
            "Epoch 5/30\n",
            "  Train Loss: 1.3518 | Train Acc: 48.33%\n",
            "  Val   Loss: 1.4231 | Val   Acc: 46.29%\n",
            "==============================\n",
            "Epoch 6/30\n",
            "  Train Loss: 1.3286 | Train Acc: 49.50%\n",
            "  Val   Loss: 1.4032 | Val   Acc: 45.63%\n",
            "==============================\n",
            "Epoch 7/30\n",
            "  Train Loss: 1.3055 | Train Acc: 49.93%\n",
            "  Val   Loss: 1.3689 | Val   Acc: 47.37%\n",
            "==============================\n",
            "Epoch 8/30\n",
            "  Train Loss: 1.2811 | Train Acc: 51.07%\n",
            "  Val   Loss: 1.3716 | Val   Acc: 46.60%\n",
            "==============================\n",
            "Epoch 9/30\n",
            "  Train Loss: 1.2694 | Train Acc: 51.57%\n",
            "  Val   Loss: 1.3365 | Val   Acc: 49.81%\n",
            "==============================\n",
            "Epoch 10/30\n",
            "  Train Loss: 1.2535 | Train Acc: 52.00%\n",
            "  Val   Loss: 1.4711 | Val   Acc: 42.63%\n",
            "==============================\n",
            "Epoch 11/30\n",
            "  Train Loss: 1.2411 | Train Acc: 52.94%\n",
            "  Val   Loss: 1.3386 | Val   Acc: 48.94%\n",
            "==============================\n",
            "Epoch 12/30\n",
            "  Train Loss: 1.2203 | Train Acc: 53.56%\n",
            "  Val   Loss: 1.2826 | Val   Acc: 51.17%\n",
            "==============================\n",
            "Epoch 13/30\n",
            "  Train Loss: 1.2070 | Train Acc: 53.72%\n",
            "  Val   Loss: 1.3030 | Val   Acc: 50.12%\n",
            "==============================\n",
            "Epoch 14/30\n",
            "  Train Loss: 1.1944 | Train Acc: 54.70%\n",
            "  Val   Loss: 1.3355 | Val   Acc: 47.54%\n",
            "==============================\n",
            "Epoch 15/30\n",
            "  Train Loss: 1.1914 | Train Acc: 54.76%\n",
            "  Val   Loss: 1.2739 | Val   Acc: 51.17%\n",
            "==============================\n",
            "Epoch 16/30\n",
            "  Train Loss: 1.1786 | Train Acc: 55.33%\n",
            "  Val   Loss: 1.2644 | Val   Acc: 50.47%\n",
            "==============================\n",
            "Epoch 17/30\n",
            "  Train Loss: 1.1651 | Train Acc: 55.71%\n",
            "  Val   Loss: 1.2854 | Val   Acc: 50.16%\n",
            "==============================\n",
            "Epoch 18/30\n",
            "  Train Loss: 1.1565 | Train Acc: 56.21%\n",
            "  Val   Loss: 1.2674 | Val   Acc: 51.13%\n",
            "==============================\n",
            "Epoch 19/30\n",
            "  Train Loss: 1.1524 | Train Acc: 56.04%\n",
            "  Val   Loss: 1.2480 | Val   Acc: 53.71%\n",
            "==============================\n",
            "Epoch 20/30\n",
            "  Train Loss: 1.1346 | Train Acc: 56.96%\n",
            "  Val   Loss: 1.2509 | Val   Acc: 51.52%\n",
            "==============================\n",
            "Epoch 21/30\n",
            "  Train Loss: 1.1256 | Train Acc: 57.13%\n",
            "  Val   Loss: 1.2134 | Val   Acc: 53.47%\n",
            "==============================\n",
            "Epoch 22/30\n",
            "  Train Loss: 1.1234 | Train Acc: 57.20%\n",
            "  Val   Loss: 1.2639 | Val   Acc: 52.11%\n",
            "==============================\n",
            "Epoch 23/30\n",
            "  Train Loss: 1.1160 | Train Acc: 57.50%\n",
            "  Val   Loss: 1.2643 | Val   Acc: 51.03%\n",
            "==============================\n",
            "Epoch 24/30\n",
            "  Train Loss: 1.1052 | Train Acc: 57.84%\n",
            "  Val   Loss: 1.2586 | Val   Acc: 51.10%\n",
            "==============================\n",
            "Epoch 25/30\n",
            "  Train Loss: 1.1004 | Train Acc: 58.10%\n",
            "  Val   Loss: 1.2105 | Val   Acc: 54.30%\n",
            "==============================\n"
          ]
        }
      ]
    },
    {
      "cell_type": "code",
      "source": [
        "model.eval()\n",
        "all_preds = []\n",
        "all_labels = []\n",
        "\n",
        "with torch.no_grad():\n",
        "    for inputs, labels in test_loader:\n",
        "        inputs = inputs.to(device)\n",
        "        labels = labels.to(device)\n",
        "\n",
        "        outputs = model(inputs)\n",
        "        preds = torch.argmax(outputs, dim=1)\n",
        "\n",
        "        all_preds.extend(preds.cpu().numpy())\n",
        "        all_labels.extend(labels.cpu().numpy())"
      ],
      "metadata": {
        "id": "ji0Wl1G829ec"
      },
      "execution_count": 90,
      "outputs": []
    },
    {
      "cell_type": "code",
      "source": [
        "from sklearn.metrics import accuracy_score\n",
        "\n",
        "accuracy = accuracy_score(all_labels, all_preds)\n",
        "print(f\"Test Accuracy: {accuracy * 100:.2f}%\")"
      ],
      "metadata": {
        "colab": {
          "base_uri": "https://localhost:8080/"
        },
        "id": "ZUV9F0l03AKc",
        "outputId": "a529405d-0e6c-4711-ff45-16945845ae84"
      },
      "execution_count": 91,
      "outputs": [
        {
          "output_type": "stream",
          "name": "stdout",
          "text": [
            "Test Accuracy: 54.75%\n"
          ]
        }
      ]
    },
    {
      "cell_type": "code",
      "source": [
        "from sklearn.metrics import confusion_matrix, ConfusionMatrixDisplay\n",
        "\n",
        "cm = confusion_matrix(all_labels, all_preds)\n",
        "disp = ConfusionMatrixDisplay(confusion_matrix=cm)\n",
        "disp.plot(xticks_rotation=45)"
      ],
      "metadata": {
        "colab": {
          "base_uri": "https://localhost:8080/",
          "height": 469
        },
        "id": "E_pwg0Dd3Bu8",
        "outputId": "c4e04a2d-da83-457d-e4eb-bbd48fdabc86"
      },
      "execution_count": 56,
      "outputs": [
        {
          "output_type": "execute_result",
          "data": {
            "text/plain": [
              "<sklearn.metrics._plot.confusion_matrix.ConfusionMatrixDisplay at 0x7e8260f3b810>"
            ]
          },
          "metadata": {},
          "execution_count": 56
        },
        {
          "output_type": "display_data",
          "data": {
            "text/plain": [
              "<Figure size 640x480 with 2 Axes>"
            ],
            "image/png": "[encoded data removed]"
          },
          "metadata": {}
        }
      ]
    },
    {
      "cell_type": "code",
      "source": [
        "\n",
        "with torch.no_grad():\n",
        "    total_loss_test = 0\n",
        "    total_acc_test = 0\n",
        "    for inputs, labels in test_loader:\n",
        "        inputs = inputs.to(device)\n",
        "        labels = labels.to(device)\n",
        "\n",
        "        predictions = model(inputs)\n",
        "\n",
        "        acc = (torch.argmax(predictions, axis=1) == labels).sum().item()\n",
        "        total_acc_test += acc\n",
        "\n",
        "        test_loss = criterion(predictions, labels)\n",
        "        total_loss_test += test_loss.item()\n",
        "\n",
        "print(f\"Accuracy Score is: {round((total_acc_test / len(test_loader)) * 100, 4)} and Loss is {round(total_loss_test / len(test_loader), 4)}\")\n"
      ],
      "metadata": {
        "colab": {
          "base_uri": "https://localhost:8080/"
        },
        "id": "04brl9ol_ndV",
        "outputId": "fe702b2d-2d0d-4e92-ac75-89da1410ae08"
      },
      "execution_count": 44,
      "outputs": [
        {
          "output_type": "stream",
          "name": "stdout",
          "text": [
            "Accuracy Score is: 846.1111 and Loss is 1.7393\n"
          ]
        }
      ]
    },
    {
      "cell_type": "code",
      "source": [
        "fig, axs = plt.subplots(nrows=1, ncols=2, figsize=(15, 5))\n",
        "\n",
        "axs[0].plot(total_loss_train_plot, label='Training Loss')\n",
        "axs[0].plot(total_loss_validation_plot, label='Validation Loss')\n",
        "axs[0].set_title('Training and Validation Loss over Epochs')\n",
        "axs[0].set_xlabel('Epochs')\n",
        "axs[0].set_ylabel('Loss')\n",
        "axs[0].legend()\n",
        "\n",
        "axs[1].plot(total_acc_train_plot, label='Training Accuracy')\n",
        "axs[1].plot(total_acc_validation_plot, label='Validation Accuracy')\n",
        "axs[1].set_title('Training and Validation Accuracy over Epochs')\n",
        "axs[1].set_xlabel('Epochs')\n",
        "axs[1].set_ylabel('Accuracy')\n",
        "axs[1].legend()\n",
        "\n",
        "plt.tight_layout()\n",
        "\n",
        "plt.show()"
      ],
      "metadata": {
        "colab": {
          "base_uri": "https://localhost:8080/",
          "height": 300
        },
        "id": "DN54fMuF_pwO",
        "outputId": "03ab8d4b-336a-4444-c36f-e4c0076dacb5"
      },
      "execution_count": 45,
      "outputs": [
        {
          "output_type": "display_data",
          "data": {
            "text/plain": [
              "<Figure size 1500x500 with 2 Axes>"
            ],
            "image/png": "[encoded data removed]"
          },
          "metadata": {}
        }
      ]
    }
  ]
}